{
 "cells": [
  {
   "cell_type": "code",
   "execution_count": null,
   "metadata": {},
   "outputs": [],
   "source": [
    "import numpy as np\n",
    "import pandas as pd\n",
    "from angle_calculator import get_angle"
   ]
  },
  {
   "cell_type": "code",
   "execution_count": null,
   "metadata": {},
   "outputs": [
    {
     "name": "stdout",
     "output_type": "stream",
     "text": [
      "     left_elbow  right_elbow  left_shoulder  right_shoulder    left_hip  \\\n",
      "0    168.566051   169.058807     169.698101       17.702380  177.205577   \n",
      "1    164.407287   167.579154       9.042605       16.500029  176.796824   \n",
      "2    160.027175   167.268416       8.349453       15.914396  176.269916   \n",
      "3    161.338732   167.017674      10.199430       16.131815  175.797326   \n",
      "4    163.003709   167.941159      11.529557       16.648456  176.203382   \n",
      "..          ...          ...            ...             ...         ...   \n",
      "320  164.102405   161.597922       8.032056       11.907134  179.208619   \n",
      "321  164.281822   162.705282       7.487447       10.954465  179.553128   \n",
      "322  167.426350   164.055220       5.522470        9.639939  179.941691   \n",
      "323  168.548946   164.746349       4.505949        8.544812  179.408934   \n",
      "324  169.864168   165.533912       2.650002        7.054919  177.281579   \n",
      "\n",
      "      right_hip   left_knee  right_knee  \n",
      "0    177.342113  178.550199  178.353458  \n",
      "1    175.931754  179.123461  179.016080  \n",
      "2    175.408424  179.269723  178.995623  \n",
      "3    175.943699  178.730291  178.154916  \n",
      "4    176.876798  177.448378  176.115285  \n",
      "..          ...         ...         ...  \n",
      "320  178.977134  179.471753  179.070394  \n",
      "321  178.831570  179.312667  179.085826  \n",
      "322  178.614300  179.127393  179.143540  \n",
      "323  178.256971  178.795530  178.912462  \n",
      "324  177.815299  177.206161  178.347799  \n",
      "\n",
      "[325 rows x 8 columns]\n"
     ]
    }
   ],
   "source": [
    "landmark = pd.read_csv(\"dataset/1-sideViewTrimmed_frameNo_2d.csv\")\n",
    "\n",
    "columns = ['left_elbow', 'right_elbow', 'left_shoulder', 'right_shoulder', \n",
    "           'left_hip', 'right_hip', 'left_knee', 'right_knee']\n",
    "\n",
    "left_elbow_angle = get_angle(landmark, 12, 14,16)\n",
    "right_elbow_angle = get_angle(landmark,11,13,15)\n",
    "left_shoulder_angle = get_angle(landmark, 14,12,24)\n",
    "right_shoulder_angle = get_angle(landmark, 13,11,23)\n",
    "left_hip_angle = get_angle(landmark, 12,24,26)\n",
    "right_hip_angle = get_angle(landmark, 11,23,25)\n",
    "left_knee_angle = get_angle(landmark, 24,26,28)\n",
    "right_knee_angle = get_angle(landmark, 23, 25, 27)\n",
    "\n",
    "landmark_angles = pd.DataFrame({\n",
    "    'left_elbow': left_elbow_angle,\n",
    "    'right_elbow': right_elbow_angle,\n",
    "    'left_shoulder': left_shoulder_angle,\n",
    "    'right_shoulder': right_shoulder_angle,\n",
    "    'left_hip': left_hip_angle,\n",
    "    'right_hip': right_hip_angle,\n",
    "    'left_knee': left_knee_angle,\n",
    "    'right_knee': right_knee_angle\n",
    "})\n",
    "\n",
    "print(landmark_angles)\n"
   ]
  },
  {
   "cell_type": "code",
   "execution_count": 14,
   "metadata": {},
   "outputs": [
    {
     "name": "stdout",
     "output_type": "stream",
     "text": [
      "    frame_number  left_elbow  right_elbow  left_shoulder  right_shoulder  \\\n",
      "0            NaN  168.562577   169.040996     169.694747       17.693901   \n",
      "1            NaN  164.417713   167.573290       9.044941       16.496269   \n",
      "2            NaN  160.022675   167.268776       8.348948       15.914183   \n",
      "3            NaN  161.348698   167.026006      10.202714       16.139847   \n",
      "4            NaN  162.996732   167.952730      11.526904       16.654668   \n",
      "..           ...         ...          ...            ...             ...   \n",
      "679          NaN  164.106050   161.589409       8.031315       11.911630   \n",
      "680          NaN  164.287445   162.698871       7.488227       10.956397   \n",
      "681          NaN  167.414187   164.060798       5.527919        9.634985   \n",
      "682          NaN  168.554047   164.736325       4.505571        8.551703   \n",
      "683          NaN  169.862447   165.539788       2.653268        7.055605   \n",
      "\n",
      "       left_hip   right_hip   left_knee  right_knee  \n",
      "0    177.206987  177.336626  178.545075  178.360602  \n",
      "1    176.801042  175.933536  179.120189  179.012520  \n",
      "2    176.273853  175.411280  179.264558  178.992642  \n",
      "3    175.803176  175.950619  178.722505  178.150930  \n",
      "4    176.204680  176.876777  177.443330  176.107581  \n",
      "..          ...         ...         ...         ...  \n",
      "679  179.202539  178.980133  179.470420  179.064075  \n",
      "680  179.550070  178.824753  179.308618  179.077913  \n",
      "681  179.944930  178.616176  179.134083  179.145818  \n",
      "682  179.412641  178.258911  178.804172  178.913611  \n",
      "683  177.283491  177.814877  177.205568  178.347879  \n",
      "\n",
      "[684 rows x 9 columns]\n"
     ]
    }
   ],
   "source": [
    "print(landmark_angles)"
   ]
  },
  {
   "cell_type": "code",
   "execution_count": 7,
   "metadata": {},
   "outputs": [
    {
     "name": "stdout",
     "output_type": "stream",
     "text": [
      "0.2730602583389411\n"
     ]
    }
   ],
   "source": [
    "\n",
    "\n",
    "landmark_angles.to_csv(\"dataset/1-sideView_angle.csv\")\n",
    "\n",
    "print(min(landmark_angles['left_shoulder']))"
   ]
  },
  {
   "cell_type": "code",
   "execution_count": 8,
   "metadata": {},
   "outputs": [
    {
     "name": "stdout",
     "output_type": "stream",
     "text": [
      "169.6981009442021\n"
     ]
    }
   ],
   "source": [
    "print(max(landmark_angles['left_shoulder']))"
   ]
  }
 ],
 "metadata": {
  "kernelspec": {
   "display_name": ".venv",
   "language": "python",
   "name": "python3"
  },
  "language_info": {
   "codemirror_mode": {
    "name": "ipython",
    "version": 3
   },
   "file_extension": ".py",
   "mimetype": "text/x-python",
   "name": "python",
   "nbconvert_exporter": "python",
   "pygments_lexer": "ipython3",
   "version": "3.10.0"
  }
 },
 "nbformat": 4,
 "nbformat_minor": 2
}
